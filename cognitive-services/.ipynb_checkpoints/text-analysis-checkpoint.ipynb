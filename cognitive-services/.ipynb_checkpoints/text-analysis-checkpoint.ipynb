{
 "cells": [
  {
   "cell_type": "code",
   "execution_count": null,
   "id": "3442d12d",
   "metadata": {},
   "outputs": [],
   "source": [
    "import sys\n",
    "!{sys.executable} -m pip install azure-cognitiveservices-language-textanalytics"
   ]
  },
  {
   "cell_type": "code",
   "execution_count": null,
   "id": "3ca5624c",
   "metadata": {},
   "outputs": [],
   "source": [
    "import os\n",
    "\n",
    "from azure.cognitiveservices.language.textanalytics import TextAnalyticsClient\n",
    "from msrest.authentication import CognitiveServicesCredentials"
   ]
  },
  {
   "cell_type": "code",
   "execution_count": null,
   "id": "e53be0f7",
   "metadata": {},
   "outputs": [],
   "source": [
    "# Congitive Key and Endpoint Configuration\n",
    "my_key      = 'MY_COGNITIVE_KEY'\n",
    "my_endpoint = 'MY_COGNITIVE_ENDPOINT'"
   ]
  },
  {
   "cell_type": "code",
   "execution_count": null,
   "id": "9e66c28c",
   "metadata": {},
   "outputs": [],
   "source": [
    "credentials = CognitiveServicesCredentials(my_key)"
   ]
  },
  {
   "cell_type": "code",
   "execution_count": null,
   "id": "8aa9b2b3",
   "metadata": {},
   "outputs": [],
   "source": [
    "client = TextAnalyticsClient(my_endpoint,credentials)"
   ]
  },
  {
   "cell_type": "code",
   "execution_count": null,
   "id": "e63cefec",
   "metadata": {},
   "outputs": [],
   "source": [
    "path = os.path.join('assets', 'movie_reviews')"
   ]
  },
  {
   "cell_type": "code",
   "execution_count": null,
   "id": "f405e664",
   "metadata": {},
   "outputs": [],
   "source": [
    "reviews = []\n",
    "for filename in os.listdir(path):\n",
    "    text = open(os.path.join(path, filename)).read()\n",
    "    review = {\"id\": filename, \"text\": text}\n",
    "    reviews.append(review)\n",
    "\n",
    "for i in range(len(reviews)):\n",
    "    print('{}\\n{}\\n'.format(reviews[i]['id'], reviews[i]['text']))"
   ]
  },
  {
   "cell_type": "code",
   "execution_count": null,
   "id": "ef80b9dc",
   "metadata": {},
   "outputs": [],
   "source": [
    "results = client.key_phrases(documents=reviews)\n",
    "print(results)"
   ]
  },
  {
   "cell_type": "code",
   "execution_count": null,
   "id": "328086f5",
   "metadata": {},
   "outputs": [],
   "source": [
    "for i in range(10):\n",
    "    print(reviews[i-1]['id'])\n",
    "    print('\\nKey Phrases:')\n",
    "    key_phrases = results.documents[i-1].key_phrases\n",
    "    for key_phrase in key_phrases:\n",
    "        print('\\t', key_phrase)\n",
    "    print('\\n')"
   ]
  },
  {
   "cell_type": "code",
   "execution_count": null,
   "id": "dba19218",
   "metadata": {},
   "outputs": [],
   "source": [
    "results = client.sentiment(documents=reviews)\n",
    "print(results)"
   ]
  },
  {
   "cell_type": "code",
   "execution_count": null,
   "id": "f92af59e",
   "metadata": {},
   "outputs": [],
   "source": [
    "for i in range(10):\n",
    "    sentiment_score = results.documents[i-1].score\n",
    "    # classifiy 'positive' if more than 0.5, \n",
    "    if sentiment_score < 0.5:\n",
    "        sentiment = 'negative'\n",
    "    else:\n",
    "        sentiment = 'positive'\n",
    "    print('{} : {} ({})'.format(reviews[i-1]['id'], sentiment, sentiment_score))"
   ]
  },
  {
   "cell_type": "code",
   "execution_count": null,
   "id": "28aa9607",
   "metadata": {},
   "outputs": [],
   "source": []
  }
 ],
 "metadata": {
  "kernelspec": {
   "display_name": "Python 3",
   "language": "python",
   "name": "python3"
  },
  "language_info": {
   "codemirror_mode": {
    "name": "ipython",
    "version": 3
   },
   "file_extension": ".py",
   "mimetype": "text/x-python",
   "name": "python",
   "nbconvert_exporter": "python",
   "pygments_lexer": "ipython3",
   "version": "3.8.8"
  }
 },
 "nbformat": 4,
 "nbformat_minor": 5
}
