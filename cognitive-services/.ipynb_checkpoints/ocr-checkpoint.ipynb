{
 "cells": [
  {
   "cell_type": "code",
   "execution_count": null,
   "id": "5d7c1817",
   "metadata": {},
   "outputs": [],
   "source": [
    "import sys\n",
    "!{sys.executable} -m pip install azure-cognitiveservices-vision-computervision"
   ]
  },
  {
   "cell_type": "code",
   "execution_count": null,
   "id": "9debd890",
   "metadata": {},
   "outputs": [],
   "source": [
    "import os\n",
    "import time\n",
    "import matplotlib.pyplot as plt\n",
    "from PIL import Image, ImageDraw\n",
    "\n",
    "from azure.cognitiveservices.vision.computervision import ComputerVisionClient\n",
    "from azure.cognitiveservices.vision.computervision.models import OperationStatusCodes\n",
    "from msrest.authentication import CognitiveServicesCredentials"
   ]
  },
  {
   "cell_type": "code",
   "execution_count": null,
   "id": "15025fef",
   "metadata": {},
   "outputs": [],
   "source": [
    "# Congitive Key and Endpoint Configuration\n",
    "my_key      = 'MY_COGNITIVE_KEY'\n",
    "my_endpoint = 'MY_COGNITIVE_ENDPOINT'"
   ]
  },
  {
   "cell_type": "code",
   "execution_count": null,
   "id": "dd33a58e",
   "metadata": {},
   "outputs": [],
   "source": [
    "# https://docs.microsoft.com/en-us/python/api/msrest/msrest.authentication.cognitiveservicescredentials?view=azure-python\n",
    "credentials = CognitiveServicesCredentials(my_key)"
   ]
  },
  {
   "cell_type": "code",
   "execution_count": null,
   "id": "aa7b1464",
   "metadata": {},
   "outputs": [],
   "source": [
    "# https://docs.microsoft.com/en-us/python/api/azure-cognitiveservices-vision-computervision/azure.cognitiveservices.vision.computervision.computervisionclient?view=azure-python\n",
    "client = ComputerVisionClient(my_endpoint,credentials)"
   ]
  },
  {
   "cell_type": "code",
   "execution_count": null,
   "id": "9487968d",
   "metadata": {},
   "outputs": [],
   "source": [
    "def printed_text(results,path):\n",
    "    for region in results.regions:\n",
    "        for line in region.lines:\n",
    "\n",
    "            # Read the words in the line of text\n",
    "            line_text = ''\n",
    "            for word in line.words:\n",
    "                line_text += word.text + ' '\n",
    "            print(line_text.rstrip())\n",
    "\n",
    "    # Open image to display it.\n",
    "    fig = plt.figure(figsize=(7, 7))\n",
    "    img = Image.open(path)\n",
    "    draw = ImageDraw.Draw(img)\n",
    "    plt.axis('off')\n",
    "    plt.imshow(img)"
   ]
  },
  {
   "cell_type": "code",
   "execution_count": null,
   "id": "014b6523",
   "metadata": {},
   "outputs": [],
   "source": [
    "path = os.path.join('assets', 'ocr', 'printed-text.jpg')\n",
    "stream = open(path, \"rb\")\n",
    "results = client.recognize_printed_text_in_stream(stream)\n",
    "printed_text(results,path)"
   ]
  },
  {
   "cell_type": "code",
   "execution_count": null,
   "id": "ce6f7d7a",
   "metadata": {},
   "outputs": [],
   "source": [
    "path = os.path.join('assets', 'ocr', 'printed-text-2.jpg')\n",
    "stream = open(path, \"rb\")\n",
    "results = client.recognize_printed_text_in_stream(stream)\n",
    "printed_text(results,path)"
   ]
  },
  {
   "cell_type": "markdown",
   "id": "8b8d2bbf",
   "metadata": {},
   "source": [
    "## Read API\n",
    "Better suited for largers amounts of text\n",
    "read and analyzed asynchronously"
   ]
  },
  {
   "cell_type": "code",
   "execution_count": null,
   "id": "415b1657",
   "metadata": {},
   "outputs": [],
   "source": [
    "path = os.path.join('assets', 'ocr', 'script.jpg')\n",
    "stream = open(path, \"rb\")"
   ]
  },
  {
   "cell_type": "code",
   "execution_count": null,
   "id": "249ee5e8",
   "metadata": {},
   "outputs": [],
   "source": [
    "read_operation = client.read_in_stream(stream,raw=True)\n",
    "operation_location = read_operation.headers[\"Operation-Location\"]\n",
    "operation_id = operation_location.split(\"/\")[-1]"
   ]
  },
  {
   "cell_type": "code",
   "execution_count": null,
   "id": "0b0f2a80",
   "metadata": {},
   "outputs": [],
   "source": [
    "# Wait for the asynchronous operation to complete\n",
    "while True:\n",
    "    results = client.get_read_result(operation_id)\n",
    "    if read_results.status not in [OperationStatusCodes.running]:\n",
    "        break\n",
    "    time.sleep(1)\n",
    "\n",
    "# If the operation was successfuly, process the text line by line\n",
    "if results.status == OperationStatusCodes.succeeded:\n",
    "    for result in results.analyze_result.read_results:\n",
    "        for line in result.lines:\n",
    "            print(line.text)\n",
    "\n",
    "# Open image and display it.\n",
    "print('\\n')\n",
    "fig = plt.figure(figsize=(12,12))\n",
    "img = Image.open(path)\n",
    "plt.axis('off')\n",
    "plt.imshow(img)"
   ]
  },
  {
   "cell_type": "code",
   "execution_count": null,
   "id": "0e289749",
   "metadata": {},
   "outputs": [],
   "source": [
    "## Handwritten"
   ]
  },
  {
   "cell_type": "code",
   "execution_count": null,
   "id": "5560a02b",
   "metadata": {},
   "outputs": [],
   "source": [
    "path = os.path.join('assets', 'ocr', 'handwritten-essay.jpg')\n",
    "stream = open(image_path, \"rb\")"
   ]
  },
  {
   "cell_type": "code",
   "execution_count": null,
   "id": "71ef96c3",
   "metadata": {},
   "outputs": [],
   "source": [
    "read_operation = client.read_in_stream(stream,raw=True)\n",
    "operation_location = read_operation.headers[\"Operation-Location\"]\n",
    "operation_id = operation_location.split(\"/\")[-1]"
   ]
  },
  {
   "cell_type": "code",
   "execution_count": null,
   "id": "16442f11",
   "metadata": {},
   "outputs": [],
   "source": [
    "while True:\n",
    "    results = client.get_read_result(operation_id)\n",
    "    if results.status not in [OperationStatusCodes.running]:\n",
    "        break\n",
    "    time.sleep(1)\n",
    "\n",
    "# If the operation was successfuly, process the text line by line\n",
    "if results.status == OperationStatusCodes.succeeded:\n",
    "    for result in results.analyze_result.read_results:\n",
    "        for line in result.lines:\n",
    "            print(line.text)\n",
    "\n",
    "# Open image and display it.\n",
    "print('\\n')\n",
    "fig = plt.figure(figsize=(12,12))\n",
    "img = Image.open(path)\n",
    "plt.axis('off')\n",
    "plt.imshow(img)"
   ]
  },
  {
   "cell_type": "code",
   "execution_count": null,
   "id": "5518506e",
   "metadata": {},
   "outputs": [],
   "source": []
  }
 ],
 "metadata": {
  "kernelspec": {
   "display_name": "Python 3",
   "language": "python",
   "name": "python3"
  },
  "language_info": {
   "codemirror_mode": {
    "name": "ipython",
    "version": 3
   },
   "file_extension": ".py",
   "mimetype": "text/x-python",
   "name": "python",
   "nbconvert_exporter": "python",
   "pygments_lexer": "ipython3",
   "version": "3.8.8"
  }
 },
 "nbformat": 4,
 "nbformat_minor": 5
}
