{
 "cells": [
  {
   "cell_type": "code",
   "execution_count": null,
   "id": "4e4bacad",
   "metadata": {},
   "outputs": [],
   "source": [
    "import sys\n",
    "!{sys.executable} -m pip install azure.ai.formrecognizer"
   ]
  },
  {
   "cell_type": "code",
   "execution_count": null,
   "id": "5b3ee582",
   "metadata": {},
   "outputs": [],
   "source": [
    "import os\n",
    "from PIL import Image, ImageDraw\n",
    "import matplotlib.pyplot as plt\n",
    "\n",
    "from azure.ai.formrecognizer import FormRecognizerClient\n",
    "from azure.core.credentials import AzureKeyCredential"
   ]
  },
  {
   "cell_type": "code",
   "execution_count": null,
   "id": "890b6fea",
   "metadata": {},
   "outputs": [],
   "source": [
    "# Congitive Key and Endpoint Configuration\n",
    "my_key      = 'MY_COGNITIVE_KEY'\n",
    "my_endpoint = 'MY_COGNITIVE_ENDPOINT'"
   ]
  },
  {
   "cell_type": "code",
   "execution_count": null,
   "id": "26f7b425",
   "metadata": {},
   "outputs": [],
   "source": [
    "client = FormRecognizerClient(endpoint=my_endpoint, credential=AzureKeyCredential(my_key))"
   ]
  },
  {
   "cell_type": "code",
   "execution_count": null,
   "id": "81377afd",
   "metadata": {},
   "outputs": [],
   "source": [
    "path = os.path.join('assets', 'ocr', 'receipt.png')"
   ]
  },
  {
   "cell_type": "code",
   "execution_count": null,
   "id": "1ebb2f3c",
   "metadata": {},
   "outputs": [],
   "source": [
    "with open(path, \"rb\") as f:\n",
    "    analyze_receipt = client.begin_recognize_receipts(receipt=f)\n",
    "\n",
    "# Get the results\n",
    "results = analyze_receipt.result()"
   ]
  },
  {
   "cell_type": "code",
   "execution_count": null,
   "id": "38a8322c",
   "metadata": {},
   "outputs": [],
   "source": [
    "fig = plt.figure(figsize=(12,12))\n",
    "img = Image.open(path)\n",
    "plt.axis('off')\n",
    "plt.imshow(img)"
   ]
  },
  {
   "cell_type": "code",
   "execution_count": null,
   "id": "8f0a43a1",
   "metadata": {},
   "outputs": [],
   "source": [
    "print(results[0])"
   ]
  },
  {
   "cell_type": "code",
   "execution_count": null,
   "id": "4a222986",
   "metadata": {},
   "outputs": [],
   "source": [
    "print(results[0].fields)"
   ]
  },
  {
   "cell_type": "code",
   "execution_count": null,
   "id": "57f5452a",
   "metadata": {},
   "outputs": [],
   "source": [
    "print(results[0].fields.get(\"MerchantName\").value)"
   ]
  },
  {
   "cell_type": "code",
   "execution_count": null,
   "id": "539c6b7c",
   "metadata": {},
   "outputs": [],
   "source": []
  }
 ],
 "metadata": {
  "kernelspec": {
   "display_name": "Python 3",
   "language": "python",
   "name": "python3"
  },
  "language_info": {
   "codemirror_mode": {
    "name": "ipython",
    "version": 3
   },
   "file_extension": ".py",
   "mimetype": "text/x-python",
   "name": "python",
   "nbconvert_exporter": "python",
   "pygments_lexer": "ipython3",
   "version": "3.8.8"
  }
 },
 "nbformat": 4,
 "nbformat_minor": 5
}
